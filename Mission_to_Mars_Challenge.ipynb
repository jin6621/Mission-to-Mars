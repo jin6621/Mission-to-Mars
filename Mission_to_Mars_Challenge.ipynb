{
 "cells": [
  {
   "cell_type": "code",
   "execution_count": 219,
   "id": "794ae96c-d02f-461c-9a91-9218831da65a",
   "metadata": {},
   "outputs": [],
   "source": [
    "# Import Splinter and BeautifulSoup\n",
    "from splinter import Browser\n",
    "from bs4 import BeautifulSoup as soup\n",
    "from webdriver_manager.chrome import ChromeDriverManager\n",
    "import pandas as pd"
   ]
  },
  {
   "cell_type": "code",
   "execution_count": 220,
   "id": "8ffdfa20-4345-403e-af83-9e828d259cd2",
   "metadata": {},
   "outputs": [
    {
     "name": "stderr",
     "output_type": "stream",
     "text": [
      "[WDM] - \n",
      "\n",
      "[WDM] - ====== WebDriver manager ======\n",
      "[WDM] - Current google-chrome version is 95.0.4638\n",
      "[WDM] - Get LATEST driver version for 95.0.4638\n",
      "[WDM] - Driver [/Users/jinike/.wdm/drivers/chromedriver/mac64/95.0.4638.17/chromedriver] found in cache\n"
     ]
    }
   ],
   "source": [
    "executable_path = {'executable_path': ChromeDriverManager().install()}\n",
    "browser = Browser('chrome', **executable_path, headless = False)"
   ]
  },
  {
   "cell_type": "code",
   "execution_count": 154,
   "id": "a24300bb-c83a-482e-aafc-717b140b86ee",
   "metadata": {},
   "outputs": [
    {
     "data": {
      "text/plain": [
       "True"
      ]
     },
     "execution_count": 154,
     "metadata": {},
     "output_type": "execute_result"
    }
   ],
   "source": [
    "# Visit the mars nasa news site\n",
    "url = 'http://redplanetscience.com'\n",
    "browser.visit(url)\n",
    "\n",
    "# Optional delay for loading the page\n",
    "browser.is_element_present_by_css('div.list_text', wait_time = 1)"
   ]
  },
  {
   "cell_type": "code",
   "execution_count": 4,
   "id": "cb3f4fcd-3a88-4294-bd26-e2e23478be9f",
   "metadata": {},
   "outputs": [
    {
     "data": {
      "text/plain": [
       "'NASA to Reveal Name of Its Next Mars Rover'"
      ]
     },
     "execution_count": 4,
     "metadata": {},
     "output_type": "execute_result"
    }
   ],
   "source": [
    "html = browser.html\n",
    "news_soup = soup(html, 'html.parser')\n",
    "slide_elem = news_soup.select_one('div.list_text')\n",
    "new_title = slide_elem.find('div', class_ = 'content_title').get_text()\n",
    "new_title"
   ]
  },
  {
   "cell_type": "code",
   "execution_count": 5,
   "id": "3cb90766-0b45-467f-96b0-1a55705490de",
   "metadata": {},
   "outputs": [
    {
     "data": {
      "text/plain": [
       "\"After a months-long contest among students to name NASA's newest Mars rover, the agency will reveal the winning name — and the winning student — this Thursday. \""
      ]
     },
     "execution_count": 5,
     "metadata": {},
     "output_type": "execute_result"
    }
   ],
   "source": [
    "# Use the parent element to find the paragraph text\n",
    "news_p = slide_elem.find('div', class_='article_teaser_body').text\n",
    "news_p"
   ]
  },
  {
   "cell_type": "markdown",
   "id": "b1834b28-6489-4e13-b187-bf3e4b7f39cc",
   "metadata": {},
   "source": [
    "### Featured Images"
   ]
  },
  {
   "cell_type": "code",
   "execution_count": 11,
   "id": "66233662-f6e4-4d2a-969b-515eaf23cd48",
   "metadata": {},
   "outputs": [],
   "source": [
    "# Visit URL\n",
    "url = 'https://spaceimages-mars.com'\n",
    "browser.visit(url)"
   ]
  },
  {
   "cell_type": "code",
   "execution_count": 7,
   "id": "9559fd69-04e6-45f3-a148-c5eef8eb8507",
   "metadata": {},
   "outputs": [],
   "source": [
    "# Find and click the full image button\n",
    "full_image_elem = browser.find_by_tag('button')[1]\n",
    "full_image_elem.click()"
   ]
  },
  {
   "cell_type": "code",
   "execution_count": 8,
   "id": "878bb02b-5a51-4650-9da0-e29f8984fed1",
   "metadata": {},
   "outputs": [],
   "source": [
    "# Parse the resulting html with soup\n",
    "html = browser.html\n",
    "img_soup = soup(html, 'html.parser')"
   ]
  },
  {
   "cell_type": "code",
   "execution_count": 9,
   "id": "4035792e-b165-4edc-8198-cf9b58d1f7d1",
   "metadata": {},
   "outputs": [
    {
     "data": {
      "text/plain": [
       "'image/featured/mars3.jpg'"
      ]
     },
     "execution_count": 9,
     "metadata": {},
     "output_type": "execute_result"
    }
   ],
   "source": [
    "# Find the relative image url\n",
    "img_url_rel = img_soup.find('img', class_ = 'fancybox-image').get('src')\n",
    "img_url_rel"
   ]
  },
  {
   "cell_type": "code",
   "execution_count": 10,
   "id": "92794685-9d91-42fb-a4f7-435d8a16365e",
   "metadata": {},
   "outputs": [
    {
     "data": {
      "text/plain": [
       "'https://spaceimages-mars.com/image/featured/mars3.jpg'"
      ]
     },
     "execution_count": 10,
     "metadata": {},
     "output_type": "execute_result"
    }
   ],
   "source": [
    "# Use the base URL to create an absolute URL\n",
    "img_url = f'https://spaceimages-mars.com/{img_url_rel}'\n",
    "img_url"
   ]
  },
  {
   "cell_type": "code",
   "execution_count": 40,
   "id": "f9e3133d-8d44-4f2d-98ab-ddc52f8baf61",
   "metadata": {},
   "outputs": [
    {
     "data": {
      "text/html": [
       "<div>\n",
       "<style scoped>\n",
       "    .dataframe tbody tr th:only-of-type {\n",
       "        vertical-align: middle;\n",
       "    }\n",
       "\n",
       "    .dataframe tbody tr th {\n",
       "        vertical-align: top;\n",
       "    }\n",
       "\n",
       "    .dataframe thead th {\n",
       "        text-align: right;\n",
       "    }\n",
       "</style>\n",
       "<table border=\"1\" class=\"dataframe\">\n",
       "  <thead>\n",
       "    <tr style=\"text-align: right;\">\n",
       "      <th></th>\n",
       "      <th>Mars</th>\n",
       "      <th>Earth</th>\n",
       "    </tr>\n",
       "    <tr>\n",
       "      <th>description</th>\n",
       "      <th></th>\n",
       "      <th></th>\n",
       "    </tr>\n",
       "  </thead>\n",
       "  <tbody>\n",
       "    <tr>\n",
       "      <th>Mars - Earth Comparison</th>\n",
       "      <td>Mars</td>\n",
       "      <td>Earth</td>\n",
       "    </tr>\n",
       "    <tr>\n",
       "      <th>Diameter:</th>\n",
       "      <td>6,779 km</td>\n",
       "      <td>12,742 km</td>\n",
       "    </tr>\n",
       "    <tr>\n",
       "      <th>Mass:</th>\n",
       "      <td>6.39 × 10^23 kg</td>\n",
       "      <td>5.97 × 10^24 kg</td>\n",
       "    </tr>\n",
       "    <tr>\n",
       "      <th>Moons:</th>\n",
       "      <td>2</td>\n",
       "      <td>1</td>\n",
       "    </tr>\n",
       "    <tr>\n",
       "      <th>Distance from Sun:</th>\n",
       "      <td>227,943,824 km</td>\n",
       "      <td>149,598,262 km</td>\n",
       "    </tr>\n",
       "    <tr>\n",
       "      <th>Length of Year:</th>\n",
       "      <td>687 Earth days</td>\n",
       "      <td>365.24 days</td>\n",
       "    </tr>\n",
       "    <tr>\n",
       "      <th>Temperature:</th>\n",
       "      <td>-87 to -5 °C</td>\n",
       "      <td>-88 to 58°C</td>\n",
       "    </tr>\n",
       "  </tbody>\n",
       "</table>\n",
       "</div>"
      ],
      "text/plain": [
       "                                    Mars            Earth\n",
       "description                                              \n",
       "Mars - Earth Comparison             Mars            Earth\n",
       "Diameter:                       6,779 km        12,742 km\n",
       "Mass:                    6.39 × 10^23 kg  5.97 × 10^24 kg\n",
       "Moons:                                 2                1\n",
       "Distance from Sun:        227,943,824 km   149,598,262 km\n",
       "Length of Year:           687 Earth days      365.24 days\n",
       "Temperature:                -87 to -5 °C      -88 to 58°C"
      ]
     },
     "execution_count": 40,
     "metadata": {},
     "output_type": "execute_result"
    }
   ],
   "source": [
    "df = pd.read_html('https://galaxyfacts-mars.com/')[0]\n",
    "df.columns = ['description','Mars','Earth']\n",
    "df.set_index('description', inplace=True)\n",
    "df"
   ]
  },
  {
   "cell_type": "code",
   "execution_count": 45,
   "id": "32d2eea0-17b8-4a7e-a7be-dfb5d03d9585",
   "metadata": {},
   "outputs": [
    {
     "data": {
      "text/plain": [
       "'<table border=\"1\" class=\"dataframe\">\\n  <thead>\\n    <tr style=\"text-align: right;\">\\n      <th></th>\\n      <th>Mars</th>\\n      <th>Earth</th>\\n    </tr>\\n    <tr>\\n      <th>description</th>\\n      <th></th>\\n      <th></th>\\n    </tr>\\n  </thead>\\n  <tbody>\\n    <tr>\\n      <th>Mars - Earth Comparison</th>\\n      <td>Mars</td>\\n      <td>Earth</td>\\n    </tr>\\n    <tr>\\n      <th>Diameter:</th>\\n      <td>6,779 km</td>\\n      <td>12,742 km</td>\\n    </tr>\\n    <tr>\\n      <th>Mass:</th>\\n      <td>6.39 × 10^23 kg</td>\\n      <td>5.97 × 10^24 kg</td>\\n    </tr>\\n    <tr>\\n      <th>Moons:</th>\\n      <td>2</td>\\n      <td>1</td>\\n    </tr>\\n    <tr>\\n      <th>Distance from Sun:</th>\\n      <td>227,943,824 km</td>\\n      <td>149,598,262 km</td>\\n    </tr>\\n    <tr>\\n      <th>Length of Year:</th>\\n      <td>687 Earth days</td>\\n      <td>365.24 days</td>\\n    </tr>\\n    <tr>\\n      <th>Temperature:</th>\\n      <td>-87 to -5 °C</td>\\n      <td>-88 to 58°C</td>\\n    </tr>\\n  </tbody>\\n</table>'"
      ]
     },
     "execution_count": 45,
     "metadata": {},
     "output_type": "execute_result"
    }
   ],
   "source": [
    "df.to_html()"
   ]
  },
  {
   "cell_type": "code",
   "execution_count": 46,
   "id": "fdfdb543-1bef-4550-82e0-74bcba404a6c",
   "metadata": {},
   "outputs": [],
   "source": [
    "browser.quit()"
   ]
  },
  {
   "cell_type": "markdown",
   "id": "74ee529f-1400-4402-b2e7-891a5b5df183",
   "metadata": {},
   "source": [
    "# D1: Scrape High-Resolution Mars’ Hemisphere Images and Titles\n",
    "### Hemispheres"
   ]
  },
  {
   "cell_type": "code",
   "execution_count": 198,
   "id": "7cdd7b22-3340-46d5-8c45-ac0a3c6ab7e9",
   "metadata": {},
   "outputs": [],
   "source": [
    "# 1. Use browser to visit the URL \n",
    "base_url = 'https://marshemispheres.com/'\n",
    "\n",
    "browser.visit(base_url)"
   ]
  },
  {
   "cell_type": "code",
   "execution_count": 207,
   "id": "9e2d52db-2889-4c00-8afe-371f4055fda7",
   "metadata": {},
   "outputs": [],
   "source": [
    "# 2. Create a list to hold the images and titles.\n",
    "hemisphere_image_urls = []\n",
    "\n",
    "# 3. Write code to retrieve the image urls and titles for each hemisphere.\n",
    "for i in range(3,7):\n",
    "    \n",
    "    #Title\n",
    "    hem_soup = soup(browser.html)\n",
    "    title = hem_soup.find_all('h3')[i-3].get_text()\n",
    "    \n",
    "    #Clicking into website for high-resolution image url\n",
    "    full_img_elem = browser.find_by_tag('img')[i].click()\n",
    "    html = browser.html\n",
    "    img_soup = soup(html, 'html.parser')\n",
    "    urls = img_soup.find_all('a')\n",
    "\n",
    "    #URL is in position 3\n",
    "    url = urls[3]['href']\n",
    "    complete_url = f'{base_url}{url}'\n",
    "    \n",
    "    hemispheres = {\n",
    "        \"img_url\": complete_url,\n",
    "        \"title\":title\n",
    "    }\n",
    "    \n",
    "    hemisphere_image_urls.append(hemispheres)\n",
    "    \n",
    "    browser.back()"
   ]
  },
  {
   "cell_type": "code",
   "execution_count": 208,
   "id": "cac01c4d-477f-42f0-b524-56e7c7ce4092",
   "metadata": {},
   "outputs": [
    {
     "data": {
      "text/plain": [
       "[{'img_url': 'https://marshemispheres.com/images/full.jpg',\n",
       "  'title': 'Cerberus Hemisphere Enhanced'},\n",
       " {'img_url': 'https://marshemispheres.com/images/schiaparelli_enhanced-full.jpg',\n",
       "  'title': 'Schiaparelli Hemisphere Enhanced'},\n",
       " {'img_url': 'https://marshemispheres.com/images/syrtis_major_enhanced-full.jpg',\n",
       "  'title': 'Syrtis Major Hemisphere Enhanced'},\n",
       " {'img_url': 'https://marshemispheres.com/images/valles_marineris_enhanced-full.jpg',\n",
       "  'title': 'Valles Marineris Hemisphere Enhanced'}]"
      ]
     },
     "execution_count": 208,
     "metadata": {},
     "output_type": "execute_result"
    }
   ],
   "source": [
    "# 4. Print the list that holds the dictionary of each image url and title.\n",
    "hemisphere_image_urls"
   ]
  },
  {
   "cell_type": "code",
   "execution_count": 229,
   "id": "f441e17d-5da6-42aa-919e-8ba1b1071867",
   "metadata": {},
   "outputs": [],
   "source": [
    "# 5. Quit the browser\n",
    "browser.quit()"
   ]
  },
  {
   "cell_type": "markdown",
   "id": "e2a7d259-c098-4c24-9d5d-5ca0003e5bc2",
   "metadata": {},
   "source": [
    "#### ----- Testing ----- please disregard below"
   ]
  },
  {
   "cell_type": "code",
   "execution_count": 156,
   "id": "e78ff69e-ea4a-4745-b9e8-93d839917b71",
   "metadata": {},
   "outputs": [],
   "source": [
    "hem_soup = soup(browser.html)"
   ]
  },
  {
   "cell_type": "code",
   "execution_count": null,
   "id": "61628e72-b3f9-4dd6-8f19-7d634b12978a",
   "metadata": {},
   "outputs": [],
   "source": [
    "# Getting fourth image and title name. \n",
    "full_image = browser.find_by_tag('button')[1]\n",
    "full_image.click()\n",
    "url = hem_soup.find_all('img', class_ = \"thumb\")[3].get('src')\n",
    "img_url = f'https://marshemispheres.com/{url}'\n",
    "print(img_url)\n",
    "\n",
    "title = hem_soup.find_all('h3')[3].get_text()\n",
    "print(title)"
   ]
  },
  {
   "cell_type": "code",
   "execution_count": null,
   "id": "b85a8330-228c-4d82-b5d4-9981050c7f25",
   "metadata": {},
   "outputs": [],
   "source": [
    "# Need to loop through 3-6, and then position 3"
   ]
  },
  {
   "cell_type": "code",
   "execution_count": null,
   "id": "e41a8c68-8763-4b54-afe9-122e88d3f8d8",
   "metadata": {},
   "outputs": [],
   "source": [
    "hem_soup.find_all('h3')[3].get_text()"
   ]
  },
  {
   "cell_type": "code",
   "execution_count": 131,
   "id": "dbb50c64-49a3-47ac-9e8e-e8f508e98d18",
   "metadata": {},
   "outputs": [
    {
     "name": "stdout",
     "output_type": "stream",
     "text": [
      "https://marshemispheres.com/images/full.jpg\n"
     ]
    }
   ],
   "source": [
    "# position 3 ~ 6\n",
    "full_img_elem = browser.find_by_tag('img')[3].click()\n",
    "html = browser.html\n",
    "img_soup = soup(html, 'html.parser')\n",
    "urls = img_soup.find_all('a')\n",
    "\n",
    "#position 3\n",
    "url = urls[3]['href']\n",
    "complete_url = f'https://marshemispheres.com/{url}'\n",
    "print(complete_url)"
   ]
  },
  {
   "cell_type": "code",
   "execution_count": 133,
   "id": "9ce6fa07-5030-40cc-8f9e-8b9f0d2a1a7d",
   "metadata": {},
   "outputs": [
    {
     "name": "stdout",
     "output_type": "stream",
     "text": [
      "https://marshemispheres.com/images/schiaparelli_enhanced-full.jpg\n"
     ]
    }
   ],
   "source": [
    "# position 4 \n",
    "full_img_elem = browser.find_by_tag('img')[4].click()\n",
    "html = browser.html\n",
    "img_soup = soup(html, 'html.parser')\n",
    "urls = img_soup.find_all('a')\n",
    "\n",
    "#position 3\n",
    "url = urls[3]['href']\n",
    "complete_url = f'https://marshemispheres.com/{url}'\n",
    "print(complete_url)"
   ]
  },
  {
   "cell_type": "code",
   "execution_count": 135,
   "id": "40cc0ce9-3a70-4276-aa66-a817c5b7679d",
   "metadata": {},
   "outputs": [],
   "source": [
    "# Needs to broswer back. \n",
    "browser.back()"
   ]
  },
  {
   "cell_type": "code",
   "execution_count": 183,
   "id": "ea8d4644-9f75-4b9c-8849-8ab0ab26518e",
   "metadata": {},
   "outputs": [
    {
     "data": {
      "text/plain": [
       "'Cerberus Hemisphere Enhanced'"
      ]
     },
     "execution_count": 183,
     "metadata": {},
     "output_type": "execute_result"
    }
   ],
   "source": [
    "hem_soup = soup(browser.html)\n",
    "hem_soup.find_all('h3')[0].get_text()"
   ]
  },
  {
   "cell_type": "code",
   "execution_count": 184,
   "id": "fd23ddf3-da09-45fa-bf2f-938b8bc959d2",
   "metadata": {},
   "outputs": [
    {
     "name": "stdout",
     "output_type": "stream",
     "text": [
      "{'img_url': 'https://marshemispheres.com/images/full.jpg', 'title': 'Cerberus Hemisphere Enhanced'}\n"
     ]
    }
   ],
   "source": [
    "url = 'https://marshemispheres.com/'\n",
    "\n",
    "browser.visit(url)\n",
    "hem_soup = soup(browser.html)\n",
    "title = hem_soup.find_all('h3')[0].get_text()\n",
    "    \n",
    "    #Clicking into website for high-resolution image url\n",
    "full_img_elem = browser.find_by_tag('img')[3].click()\n",
    "html = browser.html\n",
    "img_soup = soup(html, 'html.parser')\n",
    "urls = img_soup.find_all('a')\n",
    "\n",
    "    #URL is in position 3\n",
    "url = urls[3]['href']\n",
    "complete_url = f'https://marshemispheres.com/{url}'\n",
    "    \n",
    "hemi = {\n",
    "    \"img_url\": complete_url,\n",
    "    \"title\":title\n",
    " }\n",
    "    \n",
    "print(hemi)\n",
    "    \n",
    "browser.back()"
   ]
  },
  {
   "cell_type": "code",
   "execution_count": 185,
   "id": "f32db515-6b8a-491f-b5ed-a5be70d07ba7",
   "metadata": {},
   "outputs": [
    {
     "name": "stdout",
     "output_type": "stream",
     "text": [
      "{'img_url': 'https://marshemispheres.com/images/schiaparelli_enhanced-full.jpg', 'title': 'Schiaparelli Hemisphere Enhanced'}\n"
     ]
    }
   ],
   "source": [
    "url = 'https://marshemispheres.com/'\n",
    "\n",
    "browser.visit(url)\n",
    "hem_soup = soup(browser.html)\n",
    "title = hem_soup.find_all('h3')[1].get_text()\n",
    "    \n",
    "    #Clicking into website for high-resolution image url\n",
    "full_img_elem = browser.find_by_tag('img')[4].click()\n",
    "html = browser.html\n",
    "img_soup = soup(html, 'html.parser')\n",
    "urls = img_soup.find_all('a')\n",
    "\n",
    "    #URL is in position 3\n",
    "url = urls[3]['href']\n",
    "complete_url = f'https://marshemispheres.com/{url}'\n",
    "    \n",
    "hemi = {\n",
    "    \"img_url\": complete_url,\n",
    "    \"title\":title\n",
    " }\n",
    "    \n",
    "print(hemi)\n",
    "    \n",
    "browser.back()"
   ]
  },
  {
   "cell_type": "code",
   "execution_count": 205,
   "id": "47cb30d7-5b4e-49c5-8c9f-18a29c20ffa8",
   "metadata": {},
   "outputs": [],
   "source": [
    "    base_url = 'https://marshemispheres.com/'\n",
    "    browser.visit(base_url)\n",
    "for i in range(3,7):\n",
    "        \n",
    "\n",
    "        hemisphere_image_urls = []\n",
    "\n",
    "        #Title\n",
    "        hem_soup = soup(browser.html)\n",
    "        title = hem_soup.find_all('h3')[i-3].get_text()\n",
    "        \n",
    "        #Clicking into website for high-resolution image url\n",
    "        full_img_elem = browser.find_by_tag('img')[i].click()\n",
    "        html = browser.html\n",
    "        img_soup = soup(html, 'html.parser')\n",
    "        img_urls = img_soup.find_all('a')\n",
    "\n",
    "        #URL is in position 3\n",
    "        url = img_urls[3]['href']\n",
    "        complete_url = f'{base_url}{url}'\n",
    "        \n",
    "        hemispheres = {\n",
    "            \"img_url\": complete_url,\n",
    "            \"title\":title\n",
    "        }\n",
    "        \n",
    "        hemisphere_image_urls.append(hemispheres)\n",
    "\n",
    "        browser.back()    "
   ]
  },
  {
   "cell_type": "code",
   "execution_count": 206,
   "id": "8fb708d4-ad2e-4113-ba87-6e78c6ad3af2",
   "metadata": {},
   "outputs": [
    {
     "data": {
      "text/plain": [
       "[{'img_url': 'https://marshemispheres.com/images/valles_marineris_enhanced-full.jpg',\n",
       "  'title': 'Valles Marineris Hemisphere Enhanced'}]"
      ]
     },
     "execution_count": 206,
     "metadata": {},
     "output_type": "execute_result"
    }
   ],
   "source": [
    "hemisphere_image_urls"
   ]
  },
  {
   "cell_type": "code",
   "execution_count": 227,
   "id": "50243b6e-f088-4266-bc6d-eb05fac2ace4",
   "metadata": {},
   "outputs": [],
   "source": [
    "    base_url = 'https://marshemispheres.com/'\n",
    "    browser.visit(base_url)\n",
    "    hemisphere_image_urls = []\n",
    "\n",
    "    for i in range(3,7):\n",
    "\n",
    "        #Title\n",
    "        hem_soup = soup(browser.html)\n",
    "        title = hem_soup.find_all('h3')[i-3].get_text()\n",
    "        \n",
    "        #Clicking into website for high-resolution image url\n",
    "        full_img_elem = browser.find_by_tag('img')[i].click()\n",
    "        html = browser.html\n",
    "        img_soup = soup(html, 'html.parser')\n",
    "        img_urls = img_soup.find_all('a')\n",
    "\n",
    "        #URL is in position 3\n",
    "        url = img_urls[3]['href']\n",
    "        complete_url = f'{base_url}{url}'\n",
    "\n",
    "        hemispheres = {\n",
    "            \"img_url\": complete_url,\n",
    "            \"title\":title\n",
    "        }\n",
    "        \n",
    "        hemisphere_image_urls.append(hemispheres)\n",
    "\n",
    "        browser.back()    "
   ]
  },
  {
   "cell_type": "code",
   "execution_count": 228,
   "id": "ba62776d-73d7-4c4b-a756-11e9bdad9a58",
   "metadata": {},
   "outputs": [
    {
     "data": {
      "text/plain": [
       "[{'img_url': 'https://marshemispheres.com/images/full.jpg',\n",
       "  'title': 'Cerberus Hemisphere Enhanced'},\n",
       " {'img_url': 'https://marshemispheres.com/images/schiaparelli_enhanced-full.jpg',\n",
       "  'title': 'Schiaparelli Hemisphere Enhanced'},\n",
       " {'img_url': 'https://marshemispheres.com/images/syrtis_major_enhanced-full.jpg',\n",
       "  'title': 'Syrtis Major Hemisphere Enhanced'},\n",
       " {'img_url': 'https://marshemispheres.com/images/valles_marineris_enhanced-full.jpg',\n",
       "  'title': 'Valles Marineris Hemisphere Enhanced'}]"
      ]
     },
     "execution_count": 228,
     "metadata": {},
     "output_type": "execute_result"
    }
   ],
   "source": [
    "hemisphere_image_urls"
   ]
  },
  {
   "cell_type": "code",
   "execution_count": null,
   "id": "c7098cad-c7e8-4e29-a922-24d14754c846",
   "metadata": {},
   "outputs": [],
   "source": [
    "hemisphere_image_urls"
   ]
  },
  {
   "cell_type": "code",
   "execution_count": null,
   "id": "38c57eea-02e7-4cba-b2a9-7afa62eedbf5",
   "metadata": {},
   "outputs": [],
   "source": []
  }
 ],
 "metadata": {
  "kernelspec": {
   "display_name": "PythonData",
   "language": "python",
   "name": "pythondata"
  },
  "language_info": {
   "codemirror_mode": {
    "name": "ipython",
    "version": 3
   },
   "file_extension": ".py",
   "mimetype": "text/x-python",
   "name": "python",
   "nbconvert_exporter": "python",
   "pygments_lexer": "ipython3",
   "version": "3.7.6"
  }
 },
 "nbformat": 4,
 "nbformat_minor": 5
}
